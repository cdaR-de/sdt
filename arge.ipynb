{
  "cells": [
    {
      "cell_type": "raw",
      "metadata": {},
      "source": [
        "---\n",
        "title: Reporting on the bill length of penguins\n",
        "author: Myles Mitchell & Parisa Gregg\n",
        "date: 14 December 2022\n",
        "format: html\n",
        "---"
      ],
      "id": "050301b8"
    },
    {
      "cell_type": "markdown",
      "metadata": {},
      "source": [
        "# Basit Çizgi Grafiği Örneği\n",
        "\n",
        "Bu örnek, Python ve Matplotlib kullanarak basit bir çizgi grafiği oluşturur.\n",
        "\n",
        "## Abstract\n",
        "\n",
        "Prepare yourself for a life-changing article about penguins...\n",
        "\n",
        "## Introduction\n",
        "\n",
        "[Penguins](https://en.wikipedia.org/wiki/Penguin) are a family\n",
        "(**Spheniscidae**) of aquatic flightless\n",
        "[birds](https://en.wikipedia.org/wiki/Bird) that live primarily in the\n",
        "[Southern Hemisphere](https://en.wikipedia.org/wiki/Southern_Hemisphere).\n",
        "Their diet consists of:\n",
        "\n",
        "- Krill\n",
        "- Fish\n",
        "- Squid\n",
        "- More fish\n",
        "\n",
        "There are 18 species of penguin, including:\n",
        "\n",
        "1. Macaroni penguin (*Eudyptes chrysolophus*)\n",
        "2. Chinstrap penguin (*Pygoscelis antarcticus*)\n",
        "3. Gentoo penguin (*Pygoscelis papua*)\n"
      ],
      "id": "fce73269"
    },
    {
      "cell_type": "code",
      "metadata": {},
      "source": [
        "import pandas as pd\n",
        "\n",
        "data = pd.read_csv(\n",
        "    'https://raw.githubusercontent.com/rfordatascience/tidytuesday/master/data/2020/2020-07-28/penguins.csv'\n",
        ")\n",
        "data.head()"
      ],
      "id": "fe4b5b77",
      "execution_count": null,
      "outputs": []
    }
  ],
  "metadata": {
    "kernelspec": {
      "display_name": "Python 3",
      "language": "python",
      "name": "python3"
    }
  },
  "nbformat": 4,
  "nbformat_minor": 5
}